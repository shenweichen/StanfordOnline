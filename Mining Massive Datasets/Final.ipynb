{
 "cells": [
  {
   "cell_type": "code",
   "execution_count": 1,
   "metadata": {
    "collapsed": true
   },
   "outputs": [],
   "source": [
    "import numpy as np"
   ]
  },
  {
   "cell_type": "code",
   "execution_count": 2,
   "metadata": {
    "collapsed": true
   },
   "outputs": [],
   "source": [
    "M = np.matrix([[0,0,0,1],\n",
    "               [0.5,0,0,0],\n",
    "              [0.5,0.5,0,0],\n",
    "              [0,0.5,1,0]])"
   ]
  },
  {
   "cell_type": "code",
   "execution_count": 3,
   "metadata": {
    "collapsed": true
   },
   "outputs": [],
   "source": [
    "v = np.matrix([1,1,1,1]).T"
   ]
  },
  {
   "cell_type": "code",
   "execution_count": 4,
   "metadata": {
    "collapsed": false
   },
   "outputs": [
    {
     "data": {
      "text/plain": [
       "matrix([[ 1. ],\n",
       "        [ 0.5],\n",
       "        [ 1. ],\n",
       "        [ 1.5]])"
      ]
     },
     "execution_count": 4,
     "metadata": {},
     "output_type": "execute_result"
    }
   ],
   "source": [
    "M*v"
   ]
  },
  {
   "cell_type": "code",
   "execution_count": 5,
   "metadata": {
    "collapsed": false,
    "scrolled": false
   },
   "outputs": [
    {
     "data": {
      "text/plain": [
       "matrix([[ 0.625],\n",
       "        [ 0.375],\n",
       "        [ 0.625],\n",
       "        [ 0.875]])"
      ]
     },
     "execution_count": 5,
     "metadata": {},
     "output_type": "execute_result"
    }
   ],
   "source": [
    "0.5*M*v+0.5*v/4"
   ]
  },
  {
   "cell_type": "code",
   "execution_count": 6,
   "metadata": {
    "collapsed": true
   },
   "outputs": [],
   "source": [
    "L = np.matrix([[0,1,1,0],\n",
    "               [0,0,1,1],\n",
    "              [0,0,0,1],\n",
    "              [1,0,0,0]])"
   ]
  },
  {
   "cell_type": "code",
   "execution_count": 7,
   "metadata": {
    "collapsed": false
   },
   "outputs": [
    {
     "data": {
      "text/plain": [
       "matrix([[1],\n",
       "        [1],\n",
       "        [2],\n",
       "        [2]])"
      ]
     },
     "execution_count": 7,
     "metadata": {},
     "output_type": "execute_result"
    }
   ],
   "source": [
    "a = L.T*v\n",
    "a"
   ]
  },
  {
   "cell_type": "code",
   "execution_count": 8,
   "metadata": {
    "collapsed": false
   },
   "outputs": [
    {
     "data": {
      "text/plain": [
       "matrix([[3],\n",
       "        [4],\n",
       "        [2],\n",
       "        [1]])"
      ]
     },
     "execution_count": 8,
     "metadata": {},
     "output_type": "execute_result"
    }
   ],
   "source": [
    "L*a"
   ]
  },
  {
   "cell_type": "code",
   "execution_count": 9,
   "metadata": {
    "collapsed": false
   },
   "outputs": [
    {
     "name": "stdout",
     "output_type": "stream",
     "text": [
      "430\n"
     ]
    }
   ],
   "source": [
    "#Flagolet-Martin/Moments\n",
    "s = 0\n",
    "n = 55\n",
    "for i in range(1,11):\n",
    "    value = (11-i)*i\n",
    "    s += (n*(2*value-1))\n",
    "print s/n"
   ]
  },
  {
   "cell_type": "code",
   "execution_count": 10,
   "metadata": {
    "collapsed": false,
    "scrolled": true
   },
   "outputs": [
    {
     "data": {
      "text/plain": [
       "50000"
      ]
     },
     "execution_count": 10,
     "metadata": {},
     "output_type": "execute_result"
    }
   ],
   "source": [
    "#PCY Algorithm \n",
    "n = 10000\n",
    "B = 1000\n",
    "n**2/2/B"
   ]
  },
  {
   "cell_type": "code",
   "execution_count": 11,
   "metadata": {
    "collapsed": false
   },
   "outputs": [
    {
     "data": {
      "text/plain": [
       "193750"
      ]
     },
     "execution_count": 11,
     "metadata": {},
     "output_type": "execute_result"
    }
   ],
   "source": [
    "50000*4*31/32"
   ]
  },
  {
   "cell_type": "code",
   "execution_count": 12,
   "metadata": {
    "collapsed": true
   },
   "outputs": [],
   "source": [
    "#Association-Graph Model \n"
   ]
  },
  {
   "cell_type": "code",
   "execution_count": 13,
   "metadata": {
    "collapsed": false
   },
   "outputs": [
    {
     "name": "stdout",
     "output_type": "stream",
     "text": [
      "[[ 2 -1 -1  0  0  0  0]\n",
      " [-1  2  0 -1  0  0  0]\n",
      " [-1  0  2 -1  0  0  0]\n",
      " [ 0 -1 -1  3 -1  0  0]\n",
      " [ 0  0  0 -1  3 -1 -1]\n",
      " [ 0  0  0  0 -1  2 -1]\n",
      " [ 0  0  0  0 -1 -1  2]]\n"
     ]
    }
   ],
   "source": [
    "#Laplacian Matrices \n",
    "D = np.diag([2,2,2,3,3,2,2])\n",
    "A = np.matrix([[0,1,1,0,0,0,0],\n",
    "             [1,0,0,1,0,0,0],\n",
    "             [1,0,0,1,0,0,0],\n",
    "             [0,1,1,0,1,0,0],\n",
    "             [0,0,0,1,0,1,1],\n",
    "             [0,0,0,0,1,0,1],\n",
    "             [0,0,0,0,1,1,0]])\n",
    "L = D - A\n",
    "print L"
   ]
  },
  {
   "cell_type": "code",
   "execution_count": 14,
   "metadata": {
    "collapsed": false
   },
   "outputs": [
    {
     "data": {
      "text/plain": [
       "0.38461538461538464"
      ]
     },
     "execution_count": 14,
     "metadata": {},
     "output_type": "execute_result"
    }
   ],
   "source": [
    "#CUR Decomposition \n",
    "CUR = np.matrix([[1,2],[3,4],[5,6]])\n",
    "f = np.linalg.norm(CUR)**2\n",
    "np.linalg.norm(CUR[:,0])**2/f"
   ]
  },
  {
   "cell_type": "code",
   "execution_count": 15,
   "metadata": {
    "collapsed": false
   },
   "outputs": [
    {
     "name": "stdout",
     "output_type": "stream",
     "text": [
      "0.296473529319\n",
      "0.197819371251\n",
      "[ 1.   0.   1.   2.5]\n"
     ]
    }
   ],
   "source": [
    "#Recommendation Systems \n",
    "A = np.array([1,0,1,2.5])\n",
    "B = np.array([0,1,1,1])\n",
    "C = np.array([1,1,0,1.5])\n",
    "\n",
    "print 1 - np.dot(A,B)/(np.linalg.norm(A)*np.linalg.norm(B))\n",
    "print 1 - np.dot(A,C)/(np.linalg.norm(A)*np.linalg.norm(C))\n",
    "print A"
   ]
  },
  {
   "cell_type": "code",
   "execution_count": 16,
   "metadata": {
    "collapsed": true
   },
   "outputs": [],
   "source": [
    "#Edit Distance/Clustroids "
   ]
  },
  {
   "cell_type": "code",
   "execution_count": 17,
   "metadata": {
    "collapsed": true
   },
   "outputs": [],
   "source": [
    "#Perceptron/SVM \n"
   ]
  },
  {
   "cell_type": "code",
   "execution_count": 18,
   "metadata": {
    "collapsed": false
   },
   "outputs": [
    {
     "name": "stdout",
     "output_type": "stream",
     "text": [
      "(1, 2) 1 2.5495097568\n",
      "(3, 4) -1 2.5495097568\n",
      "(3, 1) -1 0.707106781187\n",
      "(4, 3) 1 1.58113883008\n",
      "(3, 1) -1\n"
     ]
    }
   ],
   "source": [
    "#Near-Neighbor Learning \n",
    "x = [(1,2),(3,4),(3,1),(4,3)]\n",
    "y = [1,-1,-1,1]\n",
    "q = np.array([3.5,1.5])\n",
    "min_dis = 1e9\n",
    "label = 0\n",
    "index = 0\n",
    "for i in range(0,len(x)):\n",
    "    point = np.array(x[i])\n",
    "    dis = np.linalg.norm(point-q)\n",
    "    print x[i],y[i],dis\n",
    "    if dis < min_dis:\n",
    "        min_dis = dis\n",
    "        label = i\n",
    "print x[label],y[label]"
   ]
  },
  {
   "cell_type": "code",
   "execution_count": 19,
   "metadata": {
    "collapsed": false
   },
   "outputs": [
    {
     "name": "stdout",
     "output_type": "stream",
     "text": [
      "0.7399\n",
      "0.1719\n"
     ]
    }
   ],
   "source": [
    "#LSH Families \n",
    "p1 = 0.7\n",
    "p2 = 0.3\n",
    "p1 = p1**2\n",
    "p2 = p2**2\n",
    "print 1 - (1-p1)**2\n",
    "print 1 - (1-p2)**2"
   ]
  }
 ],
 "metadata": {
  "anaconda-cloud": {},
  "kernelspec": {
   "display_name": "Python [conda root]",
   "language": "python",
   "name": "conda-root-py"
  },
  "language_info": {
   "codemirror_mode": {
    "name": "ipython",
    "version": 2
   },
   "file_extension": ".py",
   "mimetype": "text/x-python",
   "name": "python",
   "nbconvert_exporter": "python",
   "pygments_lexer": "ipython2",
   "version": "2.7.12"
  }
 },
 "nbformat": 4,
 "nbformat_minor": 1
}
