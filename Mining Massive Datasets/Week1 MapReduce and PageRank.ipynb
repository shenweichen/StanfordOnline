{
 "cells": [
  {
   "cell_type": "markdown",
   "metadata": {},
   "source": [
    "# HW1_MapReduce and PageRank "
   ]
  },
  {
   "cell_type": "code",
   "execution_count": 1,
   "metadata": {
    "collapsed": true
   },
   "outputs": [],
   "source": [
    "import numpy as np\n",
    "import copy\n",
    "import math"
   ]
  },
  {
   "cell_type": "markdown",
   "metadata": {},
   "source": [
    "# Question 1"
   ]
  },
  {
   "cell_type": "code",
   "execution_count": 2,
   "metadata": {
    "collapsed": false
   },
   "outputs": [
    {
     "name": "stdout",
     "output_type": "stream",
     "text": [
      "90 45 54\n"
     ]
    }
   ],
   "source": [
    "def isPrime(n):\n",
    "    if n<=1:\n",
    "        return False\n",
    "    sqr = math.sqrt(n)\n",
    "    for i in range(2,int(sqr)+1):\n",
    "        if n % i == 0:\n",
    "            return False\n",
    "    return True\n",
    "def solve(numlist):\n",
    "    hashnum = [0]*max(numlist)\n",
    "    for num in numlist:\n",
    "        for i in range(1,num+1):\n",
    "            if num%i==0 and isPrime(i):\n",
    "                hashnum[i] += num\n",
    "    return hashnum\n",
    "ans = solve([15,21,24,30,49])\n",
    "print ans[3],ans[5],ans[2]"
   ]
  },
  {
   "cell_type": "markdown",
   "metadata": {},
   "source": [
    "# Question 2"
   ]
  },
  {
   "cell_type": "code",
   "execution_count": 3,
   "metadata": {
    "collapsed": false
   },
   "outputs": [],
   "source": [
    "def iter(G,beta,eps,k):\n",
    "    N = G.shape[0]\n",
    "    d = G.sum(0)#0 per column 1 per row\n",
    "    M = G/d\n",
    "    t = 1\n",
    "    r = np.ones(3)/N\n",
    "    while True:\n",
    "        r_old =copy.copy(r)\n",
    "        r_new = beta * np.dot(M,r_old)\n",
    "        if beta <1:\n",
    "            S = sum(r_new)\n",
    "            r=r_new+np.ones(3)*(1-S)/N\n",
    "        else:\n",
    "            r = r_new\n",
    "        t += 1\n",
    "        if beta ==1 and t == 6:\n",
    "            return r*k\n",
    "        if sum(abs(r - r_old)) < eps :\n",
    "            return r*k"
   ]
  },
  {
   "cell_type": "code",
   "execution_count": 4,
   "metadata": {
    "collapsed": false
   },
   "outputs": [
    {
     "name": "stdout",
     "output_type": "stream",
     "text": [
      "[0.70500000000000007, 2.5949999999999998, 2.7000000000000002, 0.70500000000000007]\n"
     ]
    }
   ],
   "source": [
    "G = np.array([[0,0,0],[1,0,0],[1,1,1]],dtype='float64')\n",
    "beta = 0.7\n",
    "r = iter(G,beta,0.01,3)\n",
    "print [r[0]+r[1],r[0]+r[2],r[1]+r[2],r[0]+r[1]]"
   ]
  },
  {
   "cell_type": "markdown",
   "metadata": {
    "collapsed": false
   },
   "source": [
    "# Question 3"
   ]
  },
  {
   "cell_type": "code",
   "execution_count": 5,
   "metadata": {
    "collapsed": false
   },
   "outputs": [
    {
     "name": "stdout",
     "output_type": "stream",
     "text": [
      "1.16058685127 1.29265114871\n",
      "1.1363555501 1.13020322496\n",
      "1.0167391764 1.31058685127\n",
      "0.986498823577 1.37558829749\n"
     ]
    }
   ],
   "source": [
    "G = np.array([[0,0,1],[1,0,0],[1,1,0]],dtype='float64')\n",
    "beta = 0.85\n",
    "r = iter(G,beta,0.01,3)\n",
    "print r[0],r[2]+0.15*r[1]\n",
    "print 0.95*r[2],0.9*r[1]+0.475*r[0]\n",
    "print 0.85*r[2],r[1]+0.575*r[0]\n",
    "print 0.85*r[0],r[2]+0.15*r[2]"
   ]
  },
  {
   "cell_type": "markdown",
   "metadata": {
    "collapsed": false
   },
   "source": [
    "# Question 4"
   ]
  },
  {
   "cell_type": "code",
   "execution_count": 6,
   "metadata": {
    "collapsed": false
   },
   "outputs": [
    {
     "data": {
      "text/plain": [
       "array([ 1.25 ,  0.625,  1.125])"
      ]
     },
     "execution_count": 6,
     "metadata": {},
     "output_type": "execute_result"
    }
   ],
   "source": [
    "G = np.array([[0,0,1],[1,0,0],[1,1,0]],dtype='float64')\n",
    "beta = 1\n",
    "r = iter(G,beta,0.01,3)\n",
    "r"
   ]
  }
 ],
 "metadata": {
  "kernelspec": {
   "display_name": "Python [default]",
   "language": "python",
   "name": "python2"
  },
  "language_info": {
   "codemirror_mode": {
    "name": "ipython",
    "version": 2
   },
   "file_extension": ".py",
   "mimetype": "text/x-python",
   "name": "python",
   "nbconvert_exporter": "python",
   "pygments_lexer": "ipython2",
   "version": "2.7.12"
  }
 },
 "nbformat": 4,
 "nbformat_minor": 0
}
