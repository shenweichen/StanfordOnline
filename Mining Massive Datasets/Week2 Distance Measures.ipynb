{
 "cells": [
  {
   "cell_type": "code",
   "execution_count": 1,
   "metadata": {
    "collapsed": true
   },
   "outputs": [],
   "source": [
    "import numpy as np"
   ]
  },
  {
   "cell_type": "markdown",
   "metadata": {},
   "source": [
    "# Question 1"
   ]
  },
  {
   "cell_type": "code",
   "execution_count": 2,
   "metadata": {
    "collapsed": true
   },
   "outputs": [],
   "source": [
    "def cosine_similarity(x,y):\n",
    "    return np.dot(x,y)/(np.linalg.norm(x)*np.linalg.norm(y))"
   ]
  },
  {
   "cell_type": "code",
   "execution_count": 3,
   "metadata": {
    "collapsed": false
   },
   "outputs": [
    {
     "name": "stdout",
     "output_type": "stream",
     "text": [
      "0.949629123546 0.017401834163 0.0\n"
     ]
    }
   ],
   "source": [
    "u = [1, 0.25, 0, 0, 0.5, 0] \n",
    "v = [0.75, 0, 0, 0.2, 0.4, 0] \n",
    "w = [0, 0.1, 0.75, 0, 0, 1] \n",
    "print cosine_similarity(u,v),cosine_similarity(u,w),cosine_similarity(v,w)"
   ]
  },
  {
   "cell_type": "markdown",
   "metadata": {},
   "source": [
    "# Question 2"
   ]
  },
  {
   "cell_type": "code",
   "execution_count": 4,
   "metadata": {
    "collapsed": true
   },
   "outputs": [],
   "source": [
    "A=\"1111000000\"  \n",
    "B=\"0100100101\"  \n",
    "C=\"0000011110\"  \n",
    "D=\"0111111111\"  \n",
    "E=\"1011111111\""
   ]
  },
  {
   "cell_type": "code",
   "execution_count": 5,
   "metadata": {
    "collapsed": false
   },
   "outputs": [],
   "source": [
    "def str2set(s):\n",
    "    ans = set()\n",
    "    for i in range(0,len(s)):\n",
    "        if s[i] == '1':\n",
    "            ans.add(i)\n",
    "    return ans"
   ]
  },
  {
   "cell_type": "code",
   "execution_count": 6,
   "metadata": {
    "collapsed": false
   },
   "outputs": [
    {
     "name": "stdout",
     "output_type": "stream",
     "text": [
      "0.857142857143\n",
      "1.0\n",
      "0.7\n",
      "0.7\n",
      "0.857142857143\n",
      "0.555555555556\n",
      "0.7\n",
      "0.555555555556\n",
      "0.555555555556\n",
      "0.2\n"
     ]
    }
   ],
   "source": [
    "l = [A,B,C,D,E]\n",
    "for i in range(0,len(l)):\n",
    "    for j in range(i+1,len(l)):\n",
    "        set1 = str2set(l[i])\n",
    "        set2 = str2set(l[j])\n",
    "        print 1-len(set1&set2)*1.0/(len(set1|set2))"
   ]
  },
  {
   "cell_type": "markdown",
   "metadata": {},
   "source": [
    "# Question 3"
   ]
  },
  {
   "cell_type": "code",
   "execution_count": 7,
   "metadata": {
    "collapsed": true
   },
   "outputs": [],
   "source": [
    "A=\"1111000000\"  \n",
    "B=\"0100100101\"  \n",
    "C=\"0000011110\"  \n",
    "D=\"0111111111\"  \n",
    "E=\"1011111111\""
   ]
  },
  {
   "cell_type": "code",
   "execution_count": 8,
   "metadata": {
    "collapsed": false
   },
   "outputs": [],
   "source": [
    "def L1_dis(x,y):\n",
    "    dis = 0\n",
    "    for i,j in zip(x,y):\n",
    "        dis += (i!=j)\n",
    "    return dis"
   ]
  },
  {
   "cell_type": "code",
   "execution_count": 9,
   "metadata": {
    "collapsed": false
   },
   "outputs": [
    {
     "name": "stdout",
     "output_type": "stream",
     "text": [
      "There are 1 pairs at distance 8\n",
      "There are 1 pairs at distance 2\n",
      "There are 3 pairs at distance 5\n",
      "There are 2 pairs at distance 6\n",
      "There are 3 pairs at distance 7\n"
     ]
    }
   ],
   "source": [
    "l = [A,B,C,D,E]\n",
    "dic = dict()\n",
    "for i in range(0,len(l)):\n",
    "    for j in range(i+1,len(l)):\n",
    "        dis = L1_dis(l[i],l[j])\n",
    "        if dic.has_key(dis):\n",
    "            dic[dis] += 1\n",
    "        else:\n",
    "            dic[dis] = 1 \n",
    "for key,value in dic.items():\n",
    "    print \"There are \"+str(value)+\" pairs at distance \"+str(key)"
   ]
  },
  {
   "cell_type": "markdown",
   "metadata": {},
   "source": [
    "# Question 4"
   ]
  },
  {
   "cell_type": "markdown",
   "metadata": {},
   "source": [
    "edit_dis = len(x)+len(y)- 2*len(LCS(x,y))"
   ]
  },
  {
   "cell_type": "code",
   "execution_count": 10,
   "metadata": {
    "collapsed": true
   },
   "outputs": [],
   "source": [
    "A = \"he\" \n",
    "B = \"she\" \n",
    "C = \"his\"\n",
    "D = \"hers\"\n",
    "l = [A,B,C,D]"
   ]
  },
  {
   "cell_type": "code",
   "execution_count": 11,
   "metadata": {
    "collapsed": false
   },
   "outputs": [
    {
     "name": "stdout",
     "output_type": "stream",
     "text": [
      "There are 1 pairs at distance 1\n",
      "There are 1 pairs at distance 2\n",
      "There are 3 pairs at distance 3\n",
      "There are 1 pairs at distance 4\n"
     ]
    }
   ],
   "source": [
    "l = [A,B,C,D]\n",
    "lcs_len = [[2,2,1,2],\n",
    "           [2,3,1,2],\n",
    "           [1,1,3,2],\n",
    "           [2,2,2,4]]\n",
    "dic = dict()\n",
    "for i in range(0,len(l)):\n",
    "    for j in range(i+1,len(l)):\n",
    "        dis = len(l[i]) + len(l[j]) - 2*lcs_len[i][j]\n",
    "        if dic.has_key(dis):\n",
    "            dic[dis] += 1\n",
    "        else:\n",
    "            dic[dis] = 1 \n",
    "for key,value in dic.items():\n",
    "    print \"There are \"+str(value)+\" pairs at distance \"+str(key)"
   ]
  }
 ],
 "metadata": {
  "kernelspec": {
   "display_name": "Python [conda root]",
   "language": "python",
   "name": "conda-root-py"
  },
  "language_info": {
   "codemirror_mode": {
    "name": "ipython",
    "version": 2
   },
   "file_extension": ".py",
   "mimetype": "text/x-python",
   "name": "python",
   "nbconvert_exporter": "python",
   "pygments_lexer": "ipython2",
   "version": "2.7.12"
  }
 },
 "nbformat": 4,
 "nbformat_minor": 1
}
