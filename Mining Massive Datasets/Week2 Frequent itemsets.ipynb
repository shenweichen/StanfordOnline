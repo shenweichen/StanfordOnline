{
 "cells": [
  {
   "cell_type": "markdown",
   "metadata": {},
   "source": [
    "# Question 1"
   ]
  },
  {
   "cell_type": "code",
   "execution_count": 1,
   "metadata": {
    "collapsed": false
   },
   "outputs": [],
   "source": [
    "def a_priori_memory(N,M):\n",
    "    items_counts = 1000000\n",
    "    frequent_pairs = 1000000\n",
    "    pass1_memory = items_counts * 4\n",
    "   \n",
    "    frequentitem_counts = N\n",
    "    pass2_memory = frequentitem_counts * 4\n",
    "    \n",
    "    triangular_matrix =  (2*frequentitem_counts*frequentitem_counts )\n",
    "    triples_method = (M+frequent_pairs) * 3 * 4\n",
    "    \n",
    "    pass2_memory += min(triangular_matrix,triples_method)\n",
    "    return max(pass1_memory,pass2_memory)"
   ]
  },
  {
   "cell_type": "code",
   "execution_count": 2,
   "metadata": {
    "collapsed": false
   },
   "outputs": [],
   "source": [
    "l = [(50000,80000000),(20000,60000000),(10000,40000000),(10000,50000000),(100000,500000000),(50000,50000000),(100000,100000000)]"
   ]
  },
  {
   "cell_type": "code",
   "execution_count": 3,
   "metadata": {
    "collapsed": false
   },
   "outputs": [
    {
     "name": "stdout",
     "output_type": "stream",
     "text": [
      "N=50000 M=80000000 S=972200000\n",
      "N=20000 M=60000000 S=732080000\n",
      "N=10000 M=40000000 S=200040000\n",
      "N=10000 M=50000000 S=200040000\n",
      "N=100000 M=500000000 S=6012400000\n",
      "N=50000 M=50000000 S=612200000\n",
      "N=100000 M=100000000 S=1212400000\n"
     ]
    }
   ],
   "source": [
    "for n,m in l:\n",
    "    print \"N=\"+str(n),\"M=\"+str(m),\"S=\"+str(a_priori_memory(n,m))"
   ]
  },
  {
   "cell_type": "markdown",
   "metadata": {},
   "source": [
    "# Question 2"
   ]
  },
  {
   "cell_type": "code",
   "execution_count": 4,
   "metadata": {
    "collapsed": false
   },
   "outputs": [],
   "source": [
    "items = ['B','C','P','M','J']\n",
    "baskets = [{'B','P'},{'C','M'},{'B','C','J'},{'P','M'},{'B','C','M'},{'M','J'},{'P','J'},{'B','C','M','J'}]"
   ]
  },
  {
   "cell_type": "code",
   "execution_count": 5,
   "metadata": {
    "collapsed": false
   },
   "outputs": [],
   "source": [
    "itemsets = {}\n",
    "for i in range(0,len(items)):\n",
    "    for j  in range(i+1,len(items)):\n",
    "        itemsets[(items[i],items[j])]=0"
   ]
  },
  {
   "cell_type": "code",
   "execution_count": 6,
   "metadata": {
    "collapsed": false
   },
   "outputs": [
    {
     "name": "stdout",
     "output_type": "stream",
     "text": [
      "('P', 'J')\n",
      "('P', 'M')\n",
      "('B', 'P')\n",
      "('C', 'P')\n"
     ]
    }
   ],
   "source": [
    "not_frequent_sets = []\n",
    "for basket in baskets:\n",
    "    for key in itemsets.keys():\n",
    "        subset = set(key)\n",
    "        #for k in key:\n",
    "         #   subset.add(k)\n",
    "        if subset.issubset(basket):\n",
    "            itemsets[key] += 1  \n",
    "for key,value in itemsets.items():\n",
    "    if value < 2:\n",
    "        print key  "
   ]
  },
  {
   "cell_type": "markdown",
   "metadata": {},
   "source": [
    "# Question 3\n",
    "不太明白"
   ]
  },
  {
   "cell_type": "code",
   "execution_count": 7,
   "metadata": {
    "collapsed": false
   },
   "outputs": [],
   "source": [
    "def PCY_memory(S,P):\n",
    "    s = 10000\n",
    "    items_count = 1000000\n",
    "    frequent_items_count = 250000\n",
    "    many_pairs_count = 1000000\n",
    "    #The space needed on the first pass to count items is negligible\n",
    "    #pass1_memory = items_count *4\n",
    "    bucket_num = S /4.0\n",
    "    #frequent_bucket = (2*items_count*items_count)*1.0/s\n",
    "    #infrequent_per_bucket =(P)*1.0/bucket_num\n",
    "    \n",
    "    pass2_memory = frequent_items_count*4\n",
    "    bitmap_memory = S/32.0 \n",
    "    triple_memory = 1.0*P*many_pairs_count/bucket_num*(3*4)\n",
    "    pass2_memory += (bitmap_memory+triple_memory)\n",
    "    return  S * bucket_num /(12.0*many_pairs_count)"
   ]
  },
  {
   "cell_type": "code",
   "execution_count": 8,
   "metadata": {
    "collapsed": false
   },
   "outputs": [
    {
     "name": "stdout",
     "output_type": "stream",
     "text": [
      "200000000 833333333.333\n",
      "200000000 833333333.333\n",
      "300000000 1875000000.0\n",
      "300000000 1875000000.0\n",
      "500000000 5208333333.33\n",
      "500000000 5208333333.33\n",
      "1000000000 20833333333.3\n"
     ]
    }
   ],
   "source": [
    "l = [(200000000,400000000 \n",
    "),(200000000,800000000),(300000000,3500000000),(300000000,1800000000),(500000000,5000000000),(500000000,10000000000),(1000000000,10000000000)]\n",
    "for s,p in l:\n",
    "    print s,PCY_memory(s,p)\n",
    "    #print (2*1000000*1000000)*1.0/10000"
   ]
  },
  {
   "cell_type": "markdown",
   "metadata": {},
   "source": [
    "# Question 4"
   ]
  }
 ],
 "metadata": {
  "anaconda-cloud": {},
  "kernelspec": {
   "display_name": "Python [conda root]",
   "language": "python",
   "name": "conda-root-py"
  },
  "language_info": {
   "codemirror_mode": {
    "name": "ipython",
    "version": 2
   },
   "file_extension": ".py",
   "mimetype": "text/x-python",
   "name": "python",
   "nbconvert_exporter": "python",
   "pygments_lexer": "ipython2",
   "version": "2.7.12"
  }
 },
 "nbformat": 4,
 "nbformat_minor": 1
}
