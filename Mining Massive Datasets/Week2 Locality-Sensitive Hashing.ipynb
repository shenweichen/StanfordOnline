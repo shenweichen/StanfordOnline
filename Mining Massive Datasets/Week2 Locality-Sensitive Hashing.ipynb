{
 "cells": [
  {
   "cell_type": "markdown",
   "metadata": {},
   "source": [
    "# Question 2"
   ]
  },
  {
   "cell_type": "code",
   "execution_count": 1,
   "metadata": {
    "collapsed": true
   },
   "outputs": [],
   "source": [
    "def cost(N,M,r):\n",
    "    b = 24/r\n",
    "    s1 = 0.5\n",
    "    s2 = 0.2\n",
    "    M = M*N\n",
    "    false_positive = (1-s1**r)**b *N\n",
    "    false_negative = (1-(1-s2**r)**b)*M\n",
    "    return false_positive + false_negative"
   ]
  },
  {
   "cell_type": "code",
   "execution_count": 2,
   "metadata": {
    "collapsed": false
   },
   "outputs": [],
   "source": [
    "def compare(N,M):\n",
    "    row = [1, 2, 3, 4, 6, 8, 12,24 ]\n",
    "    min_cost = N\n",
    "    best_r = 1\n",
    "    for r in row:\n",
    "        false_num = cost(N,M,r)\n",
    "        if false_num < min_cost:\n",
    "            min_cost = false_num\n",
    "            best_r = r  \n",
    "        print r,false_num\n",
    "    print \"M=\"+str(M)+\"N\",\"r=\"+str(best_r)"
   ]
  },
  {
   "cell_type": "code",
   "execution_count": 3,
   "metadata": {
    "collapsed": false
   },
   "outputs": [
    {
     "name": "stdout",
     "output_type": "stream",
     "text": [
      "1 9952.77639478\n",
      "2 3904.57877873\n",
      "3 965.972786883\n",
      "4 774.550975112\n",
      "6 941.509398816\n",
      "8 988.403766566\n",
      "12 999.511860275\n",
      "24 999.999940395\n",
      "M=10N r=4\n"
     ]
    }
   ],
   "source": [
    "compare(1000,10)"
   ]
  },
  {
   "cell_type": "code",
   "execution_count": 4,
   "metadata": {
    "collapsed": false
   },
   "outputs": [
    {
     "name": "stdout",
     "output_type": "stream",
     "text": [
      "1 99527.7634113\n",
      "2 38760.700619\n",
      "3 6567.24762657\n",
      "4 1635.10233907\n",
      "6 964.54718707\n",
      "8 989.094964796\n",
      "12 999.512597555\n",
      "24 999.999940395\n",
      "M=100N r=6\n"
     ]
    }
   ],
   "source": [
    "compare(1000,100)"
   ]
  },
  {
   "cell_type": "markdown",
   "metadata": {},
   "source": [
    "# Question 3"
   ]
  },
  {
   "cell_type": "code",
   "execution_count": 5,
   "metadata": {
    "collapsed": false
   },
   "outputs": [],
   "source": [
    "def find_k_shingles(s,k):\n",
    "    shingles = set()\n",
    "    l = len(s)\n",
    "    for i in range(0,l-2):\n",
    "        shingles.add(s[i:i+2])\n",
    "    return shingles"
   ]
  },
  {
   "cell_type": "code",
   "execution_count": 6,
   "metadata": {
    "collapsed": false
   },
   "outputs": [
    {
     "name": "stdout",
     "output_type": "stream",
     "text": [
      "7 6 0.444444444444\n"
     ]
    }
   ],
   "source": [
    "A = \"ABRACADABRA\"\n",
    "B = \"BRICABRAC\"\n",
    "shingles_A=find_k_shingles(A,2)\n",
    "shingles_B=find_k_shingles(B,2)\n",
    "print len(shingles_A),len(shingles_B),len(shingles_A&shingles_B)*1.0/len(shingles_A|shingles_B)"
   ]
  }
 ],
 "metadata": {
  "anaconda-cloud": {},
  "kernelspec": {
   "display_name": "Python [conda root]",
   "language": "python",
   "name": "conda-root-py"
  },
  "language_info": {
   "codemirror_mode": {
    "name": "ipython",
    "version": 2
   },
   "file_extension": ".py",
   "mimetype": "text/x-python",
   "name": "python",
   "nbconvert_exporter": "python",
   "pygments_lexer": "ipython2",
   "version": "2.7.12"
  }
 },
 "nbformat": 4,
 "nbformat_minor": 1
}
