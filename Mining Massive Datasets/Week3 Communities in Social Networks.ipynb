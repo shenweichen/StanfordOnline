{
 "cells": [
  {
   "cell_type": "code",
   "execution_count": 1,
   "metadata": {
    "collapsed": true
   },
   "outputs": [],
   "source": [
    "import numpy as np"
   ]
  },
  {
   "cell_type": "markdown",
   "metadata": {},
   "source": [
    "# Question 1"
   ]
  },
  {
   "cell_type": "code",
   "execution_count": 2,
   "metadata": {
    "collapsed": true
   },
   "outputs": [],
   "source": [
    "edges = [(2,8),(3,7),(4,6),(1,2),(2,3),(3,4),(4,5),(5,6),(6,7),(7,8),(8,1)]"
   ]
  },
  {
   "cell_type": "code",
   "execution_count": 3,
   "metadata": {
    "collapsed": true
   },
   "outputs": [],
   "source": [
    "A = np.zeros([8,8])\n",
    "D = np.zeros([8,8])"
   ]
  },
  {
   "cell_type": "code",
   "execution_count": 4,
   "metadata": {
    "collapsed": false
   },
   "outputs": [],
   "source": [
    "for edge in edges:\n",
    "    i,j = edge\n",
    "    A[i-1,j-1]=1\n",
    "    A[j-1,i-1]=1\n",
    "    D[i-1,i-1] += 1\n",
    "    D[j-1,j-1] += 1\n",
    "L = D - A"
   ]
  },
  {
   "cell_type": "code",
   "execution_count": 5,
   "metadata": {
    "collapsed": false
   },
   "outputs": [
    {
     "name": "stdout",
     "output_type": "stream",
     "text": [
      "A has 22 nonzero entries\n",
      "D has 8 nonzero entries\n",
      "L has 30 nonzero entries\n"
     ]
    }
   ],
   "source": [
    "print \"A has \"+str((A!=0).sum())+\" nonzero entries\"\n",
    "print \"D has \"+str((D!=0).sum())+\" nonzero entries\"\n",
    "print \"L has \"+str((L!=0).sum())+\" nonzero entries\""
   ]
  },
  {
   "cell_type": "markdown",
   "metadata": {},
   "source": [
    "# Question 2"
   ]
  },
  {
   "cell_type": "markdown",
   "metadata": {},
   "source": [
    "# Question 3"
   ]
  },
  {
   "cell_type": "code",
   "execution_count": 6,
   "metadata": {
    "collapsed": false
   },
   "outputs": [
    {
     "name": "stdout",
     "output_type": "stream",
     "text": [
      "pa=0.7 pb=0.466666666667\n"
     ]
    }
   ],
   "source": [
    "pa = 7.0/10\n",
    "pb = 7.0/15\n",
    "print \"pa=\"+str(pa),\"pb=\"+str(pb)"
   ]
  }
 ],
 "metadata": {
  "kernelspec": {
   "display_name": "Python [conda root]",
   "language": "python",
   "name": "conda-root-py"
  },
  "language_info": {
   "codemirror_mode": {
    "name": "ipython",
    "version": 2
   },
   "file_extension": ".py",
   "mimetype": "text/x-python",
   "name": "python",
   "nbconvert_exporter": "python",
   "pygments_lexer": "ipython2",
   "version": "2.7.12"
  }
 },
 "nbformat": 4,
 "nbformat_minor": 1
}
