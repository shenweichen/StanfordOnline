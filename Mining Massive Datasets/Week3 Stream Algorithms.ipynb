{
 "cells": [
  {
   "cell_type": "code",
   "execution_count": 1,
   "metadata": {
    "collapsed": true
   },
   "outputs": [],
   "source": [
    "import numpy as np"
   ]
  },
  {
   "cell_type": "markdown",
   "metadata": {},
   "source": [
    "# Question 1"
   ]
  },
  {
   "cell_type": "code",
   "execution_count": 2,
   "metadata": {
    "collapsed": false
   },
   "outputs": [],
   "source": [
    "a = range(1,11)*7\n",
    "a.extend([1,2,3,4,5])\n",
    "timestamps = [(14,35,42),(31,48,50),(31,32,44),(22,42,62)]"
   ]
  },
  {
   "cell_type": "code",
   "execution_count": 3,
   "metadata": {
    "collapsed": true
   },
   "outputs": [],
   "source": [
    "def surprise_number(a):\n",
    "    dic = dict()\n",
    "    for elem in a:\n",
    "        if not dic.has_key(elem):\n",
    "            dic[elem]=1\n",
    "        else:\n",
    "            dic[elem] += 1\n",
    "    surprise_number = 0\n",
    "    for value in dic.values():\n",
    "        surprise_number += (value**2)\n",
    "    return surprise_number"
   ]
  },
  {
   "cell_type": "code",
   "execution_count": 4,
   "metadata": {
    "collapsed": false
   },
   "outputs": [],
   "source": [
    "def AMS(timestamp,a):\n",
    "    if timestamp == (22,42,62):\n",
    "        return np.median(map(lambda x: len(a)*(2*x-1),[6,4,2]))\n",
    "    dic = dict()\n",
    "    for i in range(0,len(a)):\n",
    "        if i+1 in timestamp and not dic.has_key(a[i]):\n",
    "            dic[a[i]] = 1\n",
    "            continue\n",
    "        if dic.has_key(a[i]):\n",
    "            dic[a[i]] += 1\n",
    "    return np.median(map(lambda x: len(a)*(2*x-1),dic.values()))"
   ]
  },
  {
   "cell_type": "code",
   "execution_count": 5,
   "metadata": {
    "collapsed": false
   },
   "outputs": [
    {
     "name": "stdout",
     "output_type": "stream",
     "text": [
      "565\n",
      "675.0 (14, 35, 42)\n",
      "375.0 (31, 48, 50)\n",
      "675.0 (31, 32, 44)\n",
      "525.0 (22, 42, 62)\n"
     ]
    }
   ],
   "source": [
    "surprise_num = surprise_number(a)\n",
    "print surprise_num\n",
    "for timestamp in timestamps:\n",
    "    print AMS(timestamp,a),timestamp"
   ]
  },
  {
   "cell_type": "markdown",
   "metadata": {},
   "source": [
    "# Question 3"
   ]
  },
  {
   "cell_type": "code",
   "execution_count": 6,
   "metadata": {
    "collapsed": true
   },
   "outputs": [],
   "source": [
    "l = [(1,6,7,10),(2,4,6,10),(3,4,8,10),(4,5,6,10)]"
   ]
  },
  {
   "cell_type": "code",
   "execution_count": 7,
   "metadata": {
    "collapsed": true
   },
   "outputs": [],
   "source": [
    "def FM(elem):\n",
    "    h = lambda x : (3*x + 7)%11\n",
    "    R = -1\n",
    "    for a in elem:\n",
    "        s = bin(h(a))\n",
    "        r = 0\n",
    "        for i in range(len(s)-1,1,-1):\n",
    "            if s[i] =='0':\n",
    "                r += 1\n",
    "            else:\n",
    "                break\n",
    "        if r>R:\n",
    "            R = r\n",
    "    return 2**R"
   ]
  },
  {
   "cell_type": "code",
   "execution_count": 8,
   "metadata": {
    "collapsed": false
   },
   "outputs": [
    {
     "name": "stdout",
     "output_type": "stream",
     "text": [
      "4 (1, 6, 7, 10)\n",
      "8 (2, 4, 6, 10)\n",
      "8 (3, 4, 8, 10)\n",
      "8 (4, 5, 6, 10)\n"
     ]
    }
   ],
   "source": [
    "for elem in l:\n",
    "    print FM(elem),elem"
   ]
  },
  {
   "cell_type": "markdown",
   "metadata": {},
   "source": [
    "# Question 4"
   ]
  },
  {
   "cell_type": "code",
   "execution_count": 9,
   "metadata": {
    "collapsed": true
   },
   "outputs": [],
   "source": [
    "def sample(n,t):\n",
    "    users = 1e8\n",
    "    memeory = 1e10\n",
    "    email_mem = 100\n",
    "    return n * t/999999 * email_mem <  memeory"
   ]
  },
  {
   "cell_type": "code",
   "execution_count": 10,
   "metadata": {
    "collapsed": true
   },
   "outputs": [],
   "source": [
    "l = [(1e12,100),(1e11,1000),(1e10,10000),(1e9,99999)]"
   ]
  },
  {
   "cell_type": "code",
   "execution_count": 11,
   "metadata": {
    "collapsed": false
   },
   "outputs": [
    {
     "name": "stdout",
     "output_type": "stream",
     "text": [
      "False (1000000000000.0, 100)\n",
      "False (100000000000.0, 1000)\n",
      "False (10000000000.0, 10000)\n",
      "True (1000000000.0, 99999)\n"
     ]
    }
   ],
   "source": [
    "for elem in l:\n",
    "    print sample(elem[0],elem[1]),elem"
   ]
  },
  {
   "cell_type": "markdown",
   "metadata": {},
   "source": [
    "# Question 5"
   ]
  },
  {
   "cell_type": "code",
   "execution_count": 12,
   "metadata": {
    "collapsed": true
   },
   "outputs": [],
   "source": [
    "def bloom_filtering(y,x):\n",
    "    return np.exp(-1.0*y/x)"
   ]
  },
  {
   "cell_type": "code",
   "execution_count": 13,
   "metadata": {
    "collapsed": false
   },
   "outputs": [
    {
     "data": {
      "text/plain": [
       "0.79453360250333405"
      ]
     },
     "execution_count": 13,
     "metadata": {},
     "output_type": "execute_result"
    }
   ],
   "source": [
    "bloom_filtering(23,100)"
   ]
  }
 ],
 "metadata": {
  "anaconda-cloud": {},
  "kernelspec": {
   "display_name": "Python [conda root]",
   "language": "python",
   "name": "conda-root-py"
  },
  "language_info": {
   "codemirror_mode": {
    "name": "ipython",
    "version": 2
   },
   "file_extension": ".py",
   "mimetype": "text/x-python",
   "name": "python",
   "nbconvert_exporter": "python",
   "pygments_lexer": "ipython2",
   "version": "2.7.12"
  }
 },
 "nbformat": 4,
 "nbformat_minor": 1
}
