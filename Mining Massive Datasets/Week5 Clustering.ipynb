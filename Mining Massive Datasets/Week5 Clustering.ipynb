{
 "cells": [
  {
   "cell_type": "code",
   "execution_count": 1,
   "metadata": {
    "collapsed": true
   },
   "outputs": [],
   "source": [
    "import numpy as np"
   ]
  },
  {
   "cell_type": "markdown",
   "metadata": {},
   "source": [
    "# Question 1"
   ]
  },
  {
   "cell_type": "code",
   "execution_count": 2,
   "metadata": {
    "collapsed": false
   },
   "outputs": [],
   "source": [
    "a = [i**2 for i in range(1,11)]\n",
    "cluster_centers = [(36,64),(1,25),(25,81),(9,49)]"
   ]
  },
  {
   "cell_type": "code",
   "execution_count": 3,
   "metadata": {
    "collapsed": true
   },
   "outputs": [],
   "source": [
    "def cluster(center_a,center_b,a):\n",
    "    cluster = {'a':[],'b':[]}\n",
    "    for point in a:\n",
    "        dis_a = np.abs(center_a - point)\n",
    "        dis_b = np.abs(center_b - point)\n",
    "        if dis_a < dis_b :\n",
    "            cluster['a'].append(point)\n",
    "        else:\n",
    "            cluster['b'].append(point)\n",
    "        \n",
    "    center_a = np.mean(cluster['a'])\n",
    "    center_b = np.mean(cluster['b'])\n",
    "\n",
    "    reclassified_point = 0\n",
    "    for point in a:\n",
    "        dis_a = np.abs(center_a - point)\n",
    "        dis_b = np.abs(center_b - point)\n",
    "        if dis_a < dis_b and point not in cluster['a']:\n",
    "            reclassified_point += 1\n",
    "        elif dis_a > dis_b and point not in cluster['b']:\n",
    "            reclassified_point += 1\n",
    "    return reclassified_point"
   ]
  },
  {
   "cell_type": "code",
   "execution_count": 4,
   "metadata": {
    "collapsed": false
   },
   "outputs": [
    {
     "name": "stdout",
     "output_type": "stream",
     "text": [
      "36 64 0\n",
      "1 25 2\n",
      "25 81 0\n",
      "9 49 1\n"
     ]
    }
   ],
   "source": [
    "for center_a,center_b in cluster_centers:\n",
    "    print center_a,center_b,cluster(center_a,center_b,a)"
   ]
  },
  {
   "cell_type": "markdown",
   "metadata": {},
   "source": [
    "# Question 2"
   ]
  },
  {
   "cell_type": "code",
   "execution_count": 5,
   "metadata": {
    "collapsed": true
   },
   "outputs": [],
   "source": [
    "centers=[(0,0),(100,40)]\n",
    "points = [(53,10),(63,8),(56,13),(53,18)]"
   ]
  },
  {
   "cell_type": "code",
   "execution_count": 6,
   "metadata": {
    "collapsed": false
   },
   "outputs": [],
   "source": [
    "def L1_norm(centers,point):\n",
    "    center_a = np.array(centers[0])\n",
    "    center_b = np.array(centers[1])\n",
    "    point = np.array(point)\n",
    "    if np.abs(center_a-point).sum() < np.abs(center_b-point).sum():\n",
    "        return 'L1 '+str(center_a)\n",
    "    else:\n",
    "        return 'L1 '+str(center_b)\n",
    "def L2_norm(centers,point):\n",
    "    center_a = np.array(centers[0])\n",
    "    center_b = np.array(centers[1])\n",
    "    point = np.array(point)\n",
    "    if np.linalg.norm(center_a-point) < np.linalg.norm(center_b-point):\n",
    "        return 'L2 '+str(center_a)\n",
    "    else:\n",
    "        return 'L2 '+str(center_b)"
   ]
  },
  {
   "cell_type": "code",
   "execution_count": 7,
   "metadata": {
    "collapsed": false
   },
   "outputs": [
    {
     "name": "stdout",
     "output_type": "stream",
     "text": [
      "(53, 10) L1 [0 0] L2 [0 0]\n",
      "(63, 8) L1 [100  40] L2 [100  40]\n",
      "(56, 13) L1 [0 0] L2 [100  40]\n",
      "(53, 18) L1 [100  40] L2 [100  40]\n"
     ]
    }
   ],
   "source": [
    "for point in points:\n",
    "    print point,L1_norm(centers,point),L2_norm(centers,point)"
   ]
  },
  {
   "cell_type": "markdown",
   "metadata": {},
   "source": [
    "# Question 3"
   ]
  },
  {
   "cell_type": "code",
   "execution_count": 8,
   "metadata": {
    "collapsed": false
   },
   "outputs": [],
   "source": [
    "a = [[i**2] for i in range(1,9)]"
   ]
  },
  {
   "cell_type": "code",
   "execution_count": 9,
   "metadata": {
    "collapsed": false
   },
   "outputs": [
    {
     "name": "stdout",
     "output_type": "stream",
     "text": [
      "2.5\n",
      "9.0\n",
      "16.0\n",
      "25.0\n",
      "36.0\n",
      "49.0\n",
      "64.0\n",
      "4.66666666667\n",
      "16.0\n",
      "25.0\n",
      "36.0\n",
      "49.0\n",
      "64.0\n",
      "4.66666666667\n",
      "20.5\n",
      "36.0\n",
      "49.0\n",
      "64.0\n",
      "4.66666666667\n",
      "20.5\n",
      "42.5\n",
      "64.0\n",
      "11.0\n",
      "42.5\n",
      "64.0\n",
      "11.0\n",
      "49.6666666667\n"
     ]
    }
   ],
   "source": [
    "while len(a) >2:\n",
    "    index_a = 0\n",
    "    index_b = 0\n",
    "    center_dis = 1e9\n",
    "    for i in range(0,len(a)):\n",
    "        for j in range(i+1,len(a)):\n",
    "            center_distance = np.abs(np.mean(a[i]) - np.mean(a[j]))\n",
    "            if center_distance < center_dis:\n",
    "                center_dis = center_distance\n",
    "                index_a = i\n",
    "                index_b = j\n",
    "    a[index_a].extend(a[index_b])\n",
    "    del a[index_b]\n",
    "    for c in a:\n",
    "        print np.mean(c)"
   ]
  },
  {
   "cell_type": "markdown",
   "metadata": {},
   "source": [
    "# Question 4"
   ]
  },
  {
   "cell_type": "code",
   "execution_count": 10,
   "metadata": {
    "collapsed": false
   },
   "outputs": [
    {
     "name": "stdout",
     "output_type": "stream",
     "text": [
      "(54, 8) L1 [0 0] L2 [0 0]\n",
      "(61, 8) L1 [0 0] L2 [100  40]\n",
      "(61, 10) L1 [100  40] L2 [100  40]\n",
      "(63, 8) L1 [100  40] L2 [100  40]\n"
     ]
    }
   ],
   "source": [
    "centers=[(0,0),(100,40)]\n",
    "points = [(54,8),(61,8),(61,10),(63,8)]\n",
    "for point in points:\n",
    "    print point,L1_norm(centers,point),L2_norm(centers,point)"
   ]
  },
  {
   "cell_type": "markdown",
   "metadata": {},
   "source": [
    "# Question 5"
   ]
  },
  {
   "cell_type": "markdown",
   "metadata": {},
   "source": [
    "The probability that A is correct is 24% - correct"
   ]
  },
  {
   "cell_type": "markdown",
   "metadata": {
    "collapsed": true
   },
   "source": [
    "# Question 6"
   ]
  },
  {
   "cell_type": "code",
   "execution_count": 11,
   "metadata": {
    "collapsed": false
   },
   "outputs": [],
   "source": [
    "a = [[[0,0]],[[10,10]],[[21,21]],[[33,33]],[[5,27]],[[28,6]]]"
   ]
  },
  {
   "cell_type": "code",
   "execution_count": 12,
   "metadata": {
    "collapsed": true
   },
   "outputs": [],
   "source": [
    "def complete_link_dis(a,b):\n",
    "    max_dis = 0\n",
    "    for i in a:\n",
    "        for j in b:\n",
    "            point_a = np.array(i)\n",
    "            point_b = np.array(j)\n",
    "            dis = np.linalg.norm(point_a-point_b)\n",
    "            if dis > max_dis:\n",
    "                max_dis = dis\n",
    "    return max_dis"
   ]
  },
  {
   "cell_type": "code",
   "execution_count": 13,
   "metadata": {
    "collapsed": false
   },
   "outputs": [
    {
     "name": "stdout",
     "output_type": "stream",
     "text": [
      "[[0, 0], [10, 10]]\n",
      "[[21, 21]]\n",
      "[[33, 33]]\n",
      "[[5, 27]]\n",
      "[[28, 6]]\n",
      "----\n",
      "[[0, 0], [10, 10]]\n",
      "[[21, 21], [28, 6]]\n",
      "[[33, 33]]\n",
      "[[5, 27]]\n",
      "----\n",
      "[[0, 0], [10, 10], [5, 27]]\n",
      "[[21, 21], [28, 6]]\n",
      "[[33, 33]]\n",
      "----\n",
      "[[0, 0], [10, 10], [5, 27]]\n",
      "[[21, 21], [28, 6], [33, 33]]\n",
      "----\n"
     ]
    }
   ],
   "source": [
    "while len(a) >2:\n",
    "    index_a = 0\n",
    "    index_b = 0\n",
    "    min_dis = 1e9\n",
    "    for i in range(0,len(a)):\n",
    "        for j in range(i+1,len(a)):\n",
    "            dis = complete_link_dis(a[i],a[j])\n",
    "            #print dis,a[i],a[j]\n",
    "            if dis < min_dis:\n",
    "                min_dis = dis\n",
    "                index_a = i\n",
    "                index_b = j\n",
    "    a[index_a].extend(a[index_b])\n",
    "    del a[index_b]\n",
    "    for c in a:\n",
    "        print c\n",
    "    print '----'"
   ]
  }
 ],
 "metadata": {
  "anaconda-cloud": {},
  "kernelspec": {
   "display_name": "Python [conda root]",
   "language": "python",
   "name": "conda-root-py"
  },
  "language_info": {
   "codemirror_mode": {
    "name": "ipython",
    "version": 2
   },
   "file_extension": ".py",
   "mimetype": "text/x-python",
   "name": "python",
   "nbconvert_exporter": "python",
   "pygments_lexer": "ipython2",
   "version": "2.7.12"
  }
 },
 "nbformat": 4,
 "nbformat_minor": 1
}
