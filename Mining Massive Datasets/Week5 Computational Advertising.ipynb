{
 "cells": [
  {
   "cell_type": "code",
   "execution_count": 1,
   "metadata": {
    "collapsed": true
   },
   "outputs": [],
   "source": [
    "import pandas as pd"
   ]
  },
  {
   "cell_type": "markdown",
   "metadata": {},
   "source": [
    "# Question 2"
   ]
  },
  {
   "cell_type": "markdown",
   "metadata": {},
   "source": [
    "Simple 2.00 x\n",
    "Dump 1.50 X\n",
    "Most-Help 1.50 x\n",
    "Most-help 1.33 x\n",
    "Large-First 1.50"
   ]
  },
  {
   "cell_type": "markdown",
   "metadata": {},
   "source": [
    "# Question 3"
   ]
  },
  {
   "cell_type": "markdown",
   "metadata": {},
   "source": [
    "a0-b0\n",
    "a2-b4\n",
    "a4-b3\n",
    "a1-b2\n",
    "a3-b1\n",
    "\n",
    "a0-b1\n",
    "a3-b2\n",
    "a1-b3\n",
    "a4-b4\n",
    "a2-b0"
   ]
  },
  {
   "cell_type": "markdown",
   "metadata": {
    "collapsed": true
   },
   "source": [
    "# Question 4"
   ]
  },
  {
   "cell_type": "code",
   "execution_count": 2,
   "metadata": {
    "collapsed": false
   },
   "outputs": [],
   "source": [
    "data = pd.DataFrame(data = {'Bid':[0.1,0.09,0.08,0.07,0.06],\n",
    "                            'CTR1':[0.015,0.016,0.017,0.018,0.019],\n",
    "                            'CTR2':[0.01,0.012,0.014,0.015,0.016],\n",
    "                           'CTR3':[0.005,0.006,0.007,0.008,0.010],\n",
    "                            'Budget':[1.0,2.0,3.0,4.0,5.0]},\n",
    "                    index = ['A','B','C','D','E'],\n",
    "                    columns=['Bid','CTR1','CTR2','CTR3','Budget'])"
   ]
  },
  {
   "cell_type": "code",
   "execution_count": 3,
   "metadata": {
    "collapsed": false
   },
   "outputs": [],
   "source": [
    "data['exp1'] = data['Bid']*data['CTR1']\n",
    "data['exp2'] = data['Bid']*data['CTR2']\n",
    "data['exp3'] = data['Bid']*data['CTR3']"
   ]
  },
  {
   "cell_type": "code",
   "execution_count": 4,
   "metadata": {
    "collapsed": false
   },
   "outputs": [
    {
     "data": {
      "text/html": [
       "<div>\n",
       "<table border=\"1\" class=\"dataframe\">\n",
       "  <thead>\n",
       "    <tr style=\"text-align: right;\">\n",
       "      <th></th>\n",
       "      <th>Bid</th>\n",
       "      <th>CTR1</th>\n",
       "      <th>CTR2</th>\n",
       "      <th>CTR3</th>\n",
       "      <th>Budget</th>\n",
       "      <th>exp1</th>\n",
       "      <th>exp2</th>\n",
       "      <th>exp3</th>\n",
       "    </tr>\n",
       "  </thead>\n",
       "  <tbody>\n",
       "    <tr>\n",
       "      <th>A</th>\n",
       "      <td>0.10</td>\n",
       "      <td>0.015</td>\n",
       "      <td>0.010</td>\n",
       "      <td>0.005</td>\n",
       "      <td>1.0</td>\n",
       "      <td>0.00150</td>\n",
       "      <td>0.00100</td>\n",
       "      <td>0.00050</td>\n",
       "    </tr>\n",
       "    <tr>\n",
       "      <th>B</th>\n",
       "      <td>0.09</td>\n",
       "      <td>0.016</td>\n",
       "      <td>0.012</td>\n",
       "      <td>0.006</td>\n",
       "      <td>2.0</td>\n",
       "      <td>0.00144</td>\n",
       "      <td>0.00108</td>\n",
       "      <td>0.00054</td>\n",
       "    </tr>\n",
       "    <tr>\n",
       "      <th>C</th>\n",
       "      <td>0.08</td>\n",
       "      <td>0.017</td>\n",
       "      <td>0.014</td>\n",
       "      <td>0.007</td>\n",
       "      <td>3.0</td>\n",
       "      <td>0.00136</td>\n",
       "      <td>0.00112</td>\n",
       "      <td>0.00056</td>\n",
       "    </tr>\n",
       "    <tr>\n",
       "      <th>D</th>\n",
       "      <td>0.07</td>\n",
       "      <td>0.018</td>\n",
       "      <td>0.015</td>\n",
       "      <td>0.008</td>\n",
       "      <td>4.0</td>\n",
       "      <td>0.00126</td>\n",
       "      <td>0.00105</td>\n",
       "      <td>0.00056</td>\n",
       "    </tr>\n",
       "    <tr>\n",
       "      <th>E</th>\n",
       "      <td>0.06</td>\n",
       "      <td>0.019</td>\n",
       "      <td>0.016</td>\n",
       "      <td>0.010</td>\n",
       "      <td>5.0</td>\n",
       "      <td>0.00114</td>\n",
       "      <td>0.00096</td>\n",
       "      <td>0.00060</td>\n",
       "    </tr>\n",
       "  </tbody>\n",
       "</table>\n",
       "</div>"
      ],
      "text/plain": [
       "    Bid   CTR1   CTR2   CTR3  Budget     exp1     exp2     exp3\n",
       "A  0.10  0.015  0.010  0.005     1.0  0.00150  0.00100  0.00050\n",
       "B  0.09  0.016  0.012  0.006     2.0  0.00144  0.00108  0.00054\n",
       "C  0.08  0.017  0.014  0.007     3.0  0.00136  0.00112  0.00056\n",
       "D  0.07  0.018  0.015  0.008     4.0  0.00126  0.00105  0.00056\n",
       "E  0.06  0.019  0.016  0.010     5.0  0.00114  0.00096  0.00060"
      ]
     },
     "execution_count": 4,
     "metadata": {},
     "output_type": "execute_result"
    }
   ],
   "source": [
    "data"
   ]
  },
  {
   "cell_type": "code",
   "execution_count": 5,
   "metadata": {
    "collapsed": false,
    "scrolled": false
   },
   "outputs": [],
   "source": [
    "ctr = {'A':0,'B':0,'C':0,'D':0,'E':0}\n",
    "for i in range(0,101):\n",
    "    data.sort_values(['exp1'],ascending=False,inplace=True)\n",
    "    advertiser = 'A'\n",
    "    for pos in range(0,5):\n",
    "        if data['Budget'][pos]-data['Bid'][pos]>0:\n",
    "            advertiser = data.index[pos]\n",
    "            ctr[data.index[pos]] += 1\n",
    "            data['Budget'][pos] -= data['Bid'][pos]\n",
    "            break\n",
    "           \n",
    "    data.sort_values(['exp2'],ascending=False,inplace=True)        \n",
    "    for pos in range(0,5):\n",
    "        if data['Budget'][pos]-data['Bid'][pos]>0 and data.index[pos]!=advertiser:\n",
    "            advertiser = data.index[pos]\n",
    "            ctr[data.index[pos]] += 1\n",
    "            data['Budget'][pos] -= data['Bid'][pos]\n",
    "            break\n",
    "            \n",
    "    data.sort_values(['exp3'],ascending=False,inplace=True)\n",
    "    for pos in range(0,5):\n",
    "        if data['Budget'][pos]-data['Bid'][pos]>0 and data.index[pos]!= advertiser:\n",
    "            ctr[data.index[pos]] += 1\n",
    "            data['Budget'][pos] -= data['Bid'][pos]\n",
    "            break"
   ]
  },
  {
   "cell_type": "code",
   "execution_count": 6,
   "metadata": {
    "collapsed": false
   },
   "outputs": [
    {
     "data": {
      "text/plain": [
       "{'A': 10, 'B': 22, 'C': 37, 'D': 57, 'E': 83}"
      ]
     },
     "execution_count": 6,
     "metadata": {},
     "output_type": "execute_result"
    }
   ],
   "source": [
    "ctr"
   ]
  },
  {
   "cell_type": "markdown",
   "metadata": {},
   "source": [
    "E 83 X\n",
    "B 30 x\n",
    "C 14 x\n",
    "E 35 x\n",
    "E 26"
   ]
  }
 ],
 "metadata": {
  "anaconda-cloud": {},
  "kernelspec": {
   "display_name": "Python [conda root]",
   "language": "python",
   "name": "conda-root-py"
  },
  "language_info": {
   "codemirror_mode": {
    "name": "ipython",
    "version": 2
   },
   "file_extension": ".py",
   "mimetype": "text/x-python",
   "name": "python",
   "nbconvert_exporter": "python",
   "pygments_lexer": "ipython2",
   "version": "2.7.12"
  }
 },
 "nbformat": 4,
 "nbformat_minor": 1
}
