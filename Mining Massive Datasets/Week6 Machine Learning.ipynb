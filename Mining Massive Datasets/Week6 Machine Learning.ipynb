{
 "cells": [
  {
   "cell_type": "code",
   "execution_count": 1,
   "metadata": {
    "collapsed": false
   },
   "outputs": [],
   "source": [
    "import pandas as pd\n",
    "import numpy as np\n",
    "from sklearn import svm"
   ]
  },
  {
   "cell_type": "markdown",
   "metadata": {},
   "source": [
    "# Question 1"
   ]
  },
  {
   "cell_type": "code",
   "execution_count": 2,
   "metadata": {
    "collapsed": true
   },
   "outputs": [],
   "source": [
    "lines = [(7,-4.0/7),(4,-3.0/10),(6,-3.0/5),(6,-1.0/2)]\n",
    "points= [(5,4,1),(8,3,1),(7,2,-1),(3,3,-1)]"
   ]
  },
  {
   "cell_type": "code",
   "execution_count": 3,
   "metadata": {
    "collapsed": false
   },
   "outputs": [
    {
     "name": "stdout",
     "output_type": "stream",
     "text": [
      "(6, -0.5)\n"
     ]
    }
   ],
   "source": [
    "for line in lines:\n",
    "    right = 0\n",
    "    for u,v,y in points:\n",
    "        if y*(v -line[0]-line[1]*u ) >=0:\n",
    "            right+=1\n",
    "    if right ==4:\n",
    "        print line"
   ]
  },
  {
   "cell_type": "markdown",
   "metadata": {},
   "source": [
    "# Question 2 wrong"
   ]
  },
  {
   "cell_type": "code",
   "execution_count": 4,
   "metadata": {
    "collapsed": false
   },
   "outputs": [
    {
     "data": {
      "text/plain": [
       "array([[ 0.05024782,  0.26388652]])"
      ]
     },
     "execution_count": 4,
     "metadata": {},
     "output_type": "execute_result"
    }
   ],
   "source": [
    "X = np.array([[5,4],[8,3],[7,2],[3,3]])\n",
    "Y = np.array([1,1,-1,-1])\n",
    "clf = svm.LinearSVC(dual=False)\n",
    "clf.fit(X,Y)\n",
    "clf.coef_"
   ]
  },
  {
   "cell_type": "markdown",
   "metadata": {},
   "source": [
    "w1 = 1/2 "
   ]
  },
  {
   "cell_type": "markdown",
   "metadata": {},
   "source": [
    "# Question 3"
   ]
  },
  {
   "cell_type": "code",
   "execution_count": 5,
   "metadata": {
    "collapsed": true
   },
   "outputs": [],
   "source": [
    "buyers = [(28,145), (38,115), (43,83), (50,130), (50,90), (50,60), (50,30), (55,118), (63,88), (65,140)]\n",
    "notbuyers = [(23,40), (25,125), (29,97), (33,22), (35,63), (42,57), (44, 105), (55,63), (55,20),(64,37)]"
   ]
  },
  {
   "cell_type": "code",
   "execution_count": 6,
   "metadata": {
    "collapsed": true
   },
   "outputs": [],
   "source": [
    "def decision_tree(a,s):\n",
    "    if a < 45:\n",
    "        if s < 110:\n",
    "            return False\n",
    "        else:\n",
    "            return True\n",
    "    else:\n",
    "        if s < 75:\n",
    "            return False\n",
    "        else:\n",
    "            return True"
   ]
  },
  {
   "cell_type": "code",
   "execution_count": 7,
   "metadata": {
    "collapsed": true
   },
   "outputs": [],
   "source": [
    "tests = [(33,32),(55,63),(55,118),(50,30)]"
   ]
  },
  {
   "cell_type": "code",
   "execution_count": 8,
   "metadata": {
    "collapsed": false
   },
   "outputs": [
    {
     "name": "stdout",
     "output_type": "stream",
     "text": [
      "(33, 32)\n",
      "(50, 30)\n"
     ]
    }
   ],
   "source": [
    "for a,s in tests:\n",
    "    if decision_tree(a,s) and (a,s) in buyers:\n",
    "        continue\n",
    "    elif not decision_tree(a,s) and (a,s) in notbuyers:\n",
    "        continue\n",
    "    else:\n",
    "        print (a,s)"
   ]
  },
  {
   "cell_type": "markdown",
   "metadata": {},
   "source": [
    "# Question 4"
   ]
  },
  {
   "cell_type": "code",
   "execution_count": 9,
   "metadata": {
    "collapsed": true
   },
   "outputs": [],
   "source": [
    "data = pd.DataFrame(data = {'A1':[0,0,0,0,1,1,1,1],\n",
    "                            'A2':[0,0,1,1,0,0,1,1],\n",
    "                           'A3':[0,1,0,1,0,1,0,1],\n",
    "                           'Class':[1,1,0,0,1,1,1,0]})\n",
    "feature =['A1','A2','A3']"
   ]
  },
  {
   "cell_type": "code",
   "execution_count": 10,
   "metadata": {
    "collapsed": true
   },
   "outputs": [],
   "source": [
    "def Gini(D):\n",
    "    data_num = D['Class'].count()\n",
    "    positive_num = (D['Class']==1).sum()\n",
    "    negative_num = (D['Class']==0).sum()\n",
    "    return 1 - (positive_num*1.0/data_num)**2-(negative_num*1.0/data_num)**2"
   ]
  },
  {
   "cell_type": "code",
   "execution_count": 11,
   "metadata": {
    "collapsed": true
   },
   "outputs": [],
   "source": [
    "def Gini_split(D,A):\n",
    "    D1 = D[D[A]==1]\n",
    "    D2 = D[D[A]==0]\n",
    "    return D1[A].count()*1.0/D[A].count()*Gini(D1)+D2[A].count()*1.0/D[A].count()*Gini(D2)"
   ]
  },
  {
   "cell_type": "code",
   "execution_count": 12,
   "metadata": {
    "collapsed": false
   },
   "outputs": [
    {
     "name": "stdout",
     "output_type": "stream",
     "text": [
      "0.46875\n",
      "A1 0.4375\n",
      "A2 0.1875\n",
      "A3 0.4375\n"
     ]
    }
   ],
   "source": [
    "print Gini(data)\n",
    "for f in feature:\n",
    "    print f,Gini_split(data,f)"
   ]
  },
  {
   "cell_type": "markdown",
   "metadata": {},
   "source": [
    "# Question 5"
   ]
  },
  {
   "cell_type": "code",
   "execution_count": 13,
   "metadata": {
    "collapsed": false
   },
   "outputs": [],
   "source": [
    "positive= np.array([[3,6],[5,3]])\n",
    "negative = np.array([[1,4],[3,3],[3,1]])\n",
    "test =[(4.1,4.1),(4.1,1.8),(3.6,4.1),(3.9,3.1),\n",
    "      (4.3,1.6),(3.6,4.1),(2.2,4.7),(4.2,1.9)]"
   ]
  },
  {
   "cell_type": "code",
   "execution_count": 14,
   "metadata": {
    "collapsed": false
   },
   "outputs": [],
   "source": [
    "def NN(point,positive,negative):\n",
    "    point = np.array(point)\n",
    "    positive_dis = 1e9\n",
    "    negative_dis = 1e9\n",
    "    for p in positive:\n",
    "        dis = np.linalg.norm(point-p)\n",
    "        if dis < positive_dis:\n",
    "            positive_dis = dis\n",
    "    for p in negative:\n",
    "        dis = np.linalg.norm(point-p)\n",
    "        if dis < negative_dis:\n",
    "            negative_dis = dis\n",
    "    if positive_dis < negative_dis:\n",
    "        return True\n",
    "    else:\n",
    "        return False"
   ]
  },
  {
   "cell_type": "code",
   "execution_count": 15,
   "metadata": {
    "collapsed": false
   },
   "outputs": [
    {
     "name": "stdout",
     "output_type": "stream",
     "text": [
      "(4.1, 4.1) True\n",
      "(4.1, 1.8) False\n",
      "(3.6, 4.1) False\n",
      "(3.9, 3.1) False\n",
      "(4.3, 1.6) False\n",
      "(3.6, 4.1) False\n",
      "(2.2, 4.7) False\n",
      "(4.2, 1.9) True\n"
     ]
    }
   ],
   "source": [
    "for t in test:\n",
    "    print t,NN(t,positive,negative)"
   ]
  }
 ],
 "metadata": {
  "kernelspec": {
   "display_name": "Python [conda root]",
   "language": "python",
   "name": "conda-root-py"
  },
  "language_info": {
   "codemirror_mode": {
    "name": "ipython",
    "version": 2
   },
   "file_extension": ".py",
   "mimetype": "text/x-python",
   "name": "python",
   "nbconvert_exporter": "python",
   "pygments_lexer": "ipython2",
   "version": "2.7.12"
  }
 },
 "nbformat": 4,
 "nbformat_minor": 1
}
