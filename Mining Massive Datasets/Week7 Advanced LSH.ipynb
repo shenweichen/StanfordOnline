{
 "cells": [
  {
   "cell_type": "code",
   "execution_count": 1,
   "metadata": {
    "collapsed": true
   },
   "outputs": [],
   "source": [
    "import numpy as np"
   ]
  },
  {
   "cell_type": "markdown",
   "metadata": {},
   "source": [
    "# Question 1"
   ]
  },
  {
   "cell_type": "code",
   "execution_count": 2,
   "metadata": {
    "collapsed": true
   },
   "outputs": [],
   "source": [
    "u = np.array([1,0.25,0,0,0.5,0])\n",
    "v = np.array([0.75,0,0,0.2,0.4,0])\n",
    "w = np.array([0,0.1,0.75,0,0,1])\n",
    "r1 = np.array([1,-1,1,-1,1,-1])\n",
    "r2 = np.array([-1,-1,1,1,-1,1])\n",
    "r3 = np.array([1,1,1,1,1,1])\n",
    "r = np.array([r1,r2,r3])"
   ]
  },
  {
   "cell_type": "code",
   "execution_count": 3,
   "metadata": {
    "collapsed": false
   },
   "outputs": [],
   "source": [
    "u = np.dot(r,u)\n",
    "u[u>0]=1\n",
    "u[u<0]=0"
   ]
  },
  {
   "cell_type": "code",
   "execution_count": 4,
   "metadata": {
    "collapsed": false
   },
   "outputs": [],
   "source": [
    "v = np.dot(r,v)\n",
    "v[v>0]=1\n",
    "v[v<0]=0"
   ]
  },
  {
   "cell_type": "code",
   "execution_count": 5,
   "metadata": {
    "collapsed": false
   },
   "outputs": [],
   "source": [
    "w = np.dot(r,w)\n",
    "w[w>0]=1\n",
    "w[w<0]=0"
   ]
  },
  {
   "cell_type": "code",
   "execution_count": 6,
   "metadata": {
    "collapsed": false
   },
   "outputs": [
    {
     "name": "stdout",
     "output_type": "stream",
     "text": [
      "0\n",
      "120\n",
      "120\n"
     ]
    }
   ],
   "source": [
    "vector = [u,v,w]\n",
    "for i in range(0,len(vector)):\n",
    "    for j in range(i+1,len(vector)):\n",
    "        print  180*sum(vector[i]!=vector[j])/3"
   ]
  },
  {
   "cell_type": "markdown",
   "metadata": {},
   "source": [
    "# Question 2"
   ]
  },
  {
   "cell_type": "code",
   "execution_count": 7,
   "metadata": {
    "collapsed": false
   },
   "outputs": [
    {
     "name": "stdout",
     "output_type": "stream",
     "text": [
      "w 0.216 x 0.064\n",
      "y 0.84 z 0.64\n"
     ]
    }
   ],
   "source": [
    "k1 = 3\n",
    "k2 = 2\n",
    "print 'w',0.6**k1,'x',0.4**k1\n",
    "print 'y',1-(1-0.6)**k2,'z',1-(1-0.4)**k2"
   ]
  },
  {
   "cell_type": "markdown",
   "metadata": {},
   "source": [
    "# Question 3"
   ]
  },
  {
   "cell_type": "code",
   "execution_count": 8,
   "metadata": {
    "collapsed": true
   },
   "outputs": [],
   "source": [
    "s= ['','abcef','acdeg','bcdefg','adfg','bcdfgh','bceg','cdfg','abcd']"
   ]
  },
  {
   "cell_type": "code",
   "execution_count": 9,
   "metadata": {
    "collapsed": false
   },
   "outputs": [],
   "source": [
    "bucket = {'a':[],'b':[],'c':[]}\n",
    "J = 0.2\n",
    "for i in range(1,len(s)):\n",
    "    p =int( 1+np.floor(J*len(s[i])))\n",
    "    for j in range(p):\n",
    "        bucket[s[i][j]].append(i)"
   ]
  },
  {
   "cell_type": "code",
   "execution_count": 10,
   "metadata": {
    "collapsed": false
   },
   "outputs": [
    {
     "data": {
      "text/plain": [
       "{'a': [1, 2, 4, 8], 'b': [1, 3, 5, 6], 'c': [2, 3, 5, 7]}"
      ]
     },
     "execution_count": 10,
     "metadata": {},
     "output_type": "execute_result"
    }
   ],
   "source": [
    "bucket"
   ]
  },
  {
   "cell_type": "code",
   "execution_count": 11,
   "metadata": {
    "collapsed": false
   },
   "outputs": [
    {
     "name": "stdout",
     "output_type": "stream",
     "text": [
      "1 6\n",
      "3 6\n",
      "6 3\n"
     ]
    }
   ],
   "source": [
    "for i in [1,3,6]:\n",
    "    p =int( 1+np.floor(J*len(s[i])))\n",
    "    num = 0\n",
    "    for j in range(p):\n",
    "        buck = bucket[s[i][j]]\n",
    "        if i in buck:\n",
    "            num += (len(buck)-1)\n",
    "        else:\n",
    "            num += len(buck)\n",
    "    print i,num"
   ]
  },
  {
   "cell_type": "markdown",
   "metadata": {},
   "source": [
    "# Question 4"
   ]
  },
  {
   "cell_type": "code",
   "execution_count": 12,
   "metadata": {
    "collapsed": true
   },
   "outputs": [],
   "source": [
    "s= ['','abcef','acdeg','bcdefg','adfg','bcdfgh','bceg','cdfg','abcd']"
   ]
  },
  {
   "cell_type": "code",
   "execution_count": 13,
   "metadata": {
    "collapsed": true
   },
   "outputs": [],
   "source": [
    "bucket = {}\n",
    "J = 0.2\n",
    "for i in range(1,len(s)):\n",
    "    p =int( 1+np.floor(J*len(s[i])))\n",
    "    for j in range(p):\n",
    "        temp_key=s[i][j]+str(j+1)\n",
    "        if not bucket.has_key(temp_key):\n",
    "            bucket[temp_key]=[i]\n",
    "        else:\n",
    "            bucket[temp_key].append(i)"
   ]
  },
  {
   "cell_type": "code",
   "execution_count": 14,
   "metadata": {
    "collapsed": false
   },
   "outputs": [
    {
     "data": {
      "text/plain": [
       "{'a1': [1, 2, 4, 8], 'b1': [3, 5, 6], 'b2': [1], 'c1': [7], 'c2': [2, 3, 5]}"
      ]
     },
     "execution_count": 14,
     "metadata": {},
     "output_type": "execute_result"
    }
   ],
   "source": [
    "bucket"
   ]
  },
  {
   "cell_type": "code",
   "execution_count": 15,
   "metadata": {
    "collapsed": false
   },
   "outputs": [
    {
     "name": "stdout",
     "output_type": "stream",
     "text": [
      "2 4\n",
      "5 4\n",
      "7 0\n"
     ]
    }
   ],
   "source": [
    "for k in [2,5,7]:\n",
    "    p =int( 1+np.floor(J*len(s[k])))\n",
    "    num = 0\n",
    "    for i in range(1,p+1):\n",
    "        bj = int(0.2*len(s[k])+2-i)\n",
    "        for j in range(1,bj+1): \n",
    "            temp_key = s[k][i-1]+str(j)\n",
    "            if bucket.has_key(temp_key):\n",
    "                buck = bucket[temp_key]\n",
    "                if k in buck:\n",
    "                    num += (len(buck)-1)\n",
    "                else:\n",
    "                    num += len(buck)\n",
    "    print k,num"
   ]
  }
 ],
 "metadata": {
  "anaconda-cloud": {},
  "kernelspec": {
   "display_name": "Python [conda root]",
   "language": "python",
   "name": "conda-root-py"
  },
  "language_info": {
   "codemirror_mode": {
    "name": "ipython",
    "version": 2
   },
   "file_extension": ".py",
   "mimetype": "text/x-python",
   "name": "python",
   "nbconvert_exporter": "python",
   "pygments_lexer": "ipython2",
   "version": "2.7.12"
  }
 },
 "nbformat": 4,
 "nbformat_minor": 1
}
